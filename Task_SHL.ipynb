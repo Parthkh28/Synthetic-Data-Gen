{
  "cells": [
    {
      "cell_type": "code",
      "execution_count": 13,
      "metadata": {
        "colab": {
          "base_uri": "https://localhost:8080/"
        },
        "id": "-0u7c_l0H_hc",
        "outputId": "91b35a13-4c24-4eb8-bde8-3f41c3dd3543"
      },
      "outputs": [
        {
          "name": "stdout",
          "output_type": "stream",
          "text": [
            "Requirement already satisfied: groq in /usr/local/lib/python3.10/dist-packages (0.11.0)\n",
            "Requirement already satisfied: anyio<5,>=3.5.0 in /usr/local/lib/python3.10/dist-packages (from groq) (3.7.1)\n",
            "Requirement already satisfied: distro<2,>=1.7.0 in /usr/lib/python3/dist-packages (from groq) (1.7.0)\n",
            "Requirement already satisfied: httpx<1,>=0.23.0 in /usr/local/lib/python3.10/dist-packages (from groq) (0.27.2)\n",
            "Requirement already satisfied: pydantic<3,>=1.9.0 in /usr/local/lib/python3.10/dist-packages (from groq) (2.9.2)\n",
            "Requirement already satisfied: sniffio in /usr/local/lib/python3.10/dist-packages (from groq) (1.3.1)\n",
            "Requirement already satisfied: typing-extensions<5,>=4.7 in /usr/local/lib/python3.10/dist-packages (from groq) (4.12.2)\n",
            "Requirement already satisfied: idna>=2.8 in /usr/local/lib/python3.10/dist-packages (from anyio<5,>=3.5.0->groq) (3.10)\n",
            "Requirement already satisfied: exceptiongroup in /usr/local/lib/python3.10/dist-packages (from anyio<5,>=3.5.0->groq) (1.2.2)\n",
            "Requirement already satisfied: certifi in /usr/local/lib/python3.10/dist-packages (from httpx<1,>=0.23.0->groq) (2024.8.30)\n",
            "Requirement already satisfied: httpcore==1.* in /usr/local/lib/python3.10/dist-packages (from httpx<1,>=0.23.0->groq) (1.0.6)\n",
            "Requirement already satisfied: h11<0.15,>=0.13 in /usr/local/lib/python3.10/dist-packages (from httpcore==1.*->httpx<1,>=0.23.0->groq) (0.14.0)\n",
            "Requirement already satisfied: annotated-types>=0.6.0 in /usr/local/lib/python3.10/dist-packages (from pydantic<3,>=1.9.0->groq) (0.7.0)\n",
            "Requirement already satisfied: pydantic-core==2.23.4 in /usr/local/lib/python3.10/dist-packages (from pydantic<3,>=1.9.0->groq) (2.23.4)\n",
            "env: GROQ_API_KEY=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\n"
          ]
        }
      ],
      "source": [
        "!pip install groq\n",
        "\n"
      ]
    },
    {
      "cell_type": "code",
      "execution_count": 14,
      "metadata": {
        "colab": {
          "base_uri": "https://localhost:8080/"
        },
        "id": "FTD7YmSTD7HW",
        "outputId": "22d21e00-7ea4-4009-d4b1-64d4624ea1a9"
      },
      "outputs": [
        {
          "name": "stdout",
          "output_type": "stream",
          "text": [
            "Requirement already satisfied: nest_asyncio in /usr/local/lib/python3.10/dist-packages (1.6.0)\n"
          ]
        }
      ],
      "source": [
        "pip install nest_asyncio\n"
      ]
    },
    {
      "cell_type": "code",
      "execution_count": null,
      "metadata": {
        "colab": {
          "base_uri": "https://localhost:8080/"
        },
        "id": "GqBkqy-sHyTo",
        "outputId": "66806503-ac08-4870-ce93-23d316045904"
      },
      "outputs": [
        {
          "name": "stderr",
          "output_type": "stream",
          "text": [
            "\rGenerating Synthetic Reviews:   0%|          | 0/483354 [00:00<?, ?it/s]"
          ]
        }
      ],
      "source": [
        "import pandas as pd\n",
        "from tqdm import tqdm  # Use tqdm instead of tqdm_asyncio for better control\n",
        "import os\n",
        "import asyncio\n",
        "from groq import AsyncGroq\n",
        "import nest_asyncio\n",
        "\n",
        "# Enable nested asyncio loop handling\n",
        "nest_asyncio.apply()\n",
        "\n",
        "# Initialize the Groq client with API key\n",
        "client = AsyncGroq(\n",
        "    api_key=os.environ.get(\"GROQ_API_KEY\"),\n",
        ")\n",
        "\n",
        "# Load your data (replace these paths with the correct paths in your environment)\n",
        "product_df = pd.read_csv('product_asin.csv')\n",
        "reviews_sample_df = pd.read_csv('reviews_supplements.csv')\n",
        "\n",
        "# Select sample reviews for the system message\n",
        "sample_reviews = reviews_sample_df[['title', 'text']].dropna().head(3)\n",
        "\n",
        "# Create the system content message\n",
        "system_content = f\"\"\"\n",
        "You are a helpful assistant capable of generating high-quality synthetic product reviews. Here are some examples of how to write product reviews, with a rating included at the end:\n",
        "\n",
        "Product: {sample_reviews.iloc[0]['title']}\n",
        "Review: {sample_reviews.iloc[0]['text']}\n",
        "Rating: 5\n",
        "\n",
        "Product: {sample_reviews.iloc[1]['title']}\n",
        "Review: {sample_reviews.iloc[1]['text']}\n",
        "Rating: 4\n",
        "\n",
        "Product: {sample_reviews.iloc[2]['title']}\n",
        "Review: {sample_reviews.iloc[2]['text']}\n",
        "Rating: 3\n",
        "\n",
        "Use these examples to create a concise review (1-2 sentences) and provide a rating between 1 to 5 that reflects the quality of the product.\n",
        "\"\"\"\n",
        "\n",
        "# Function to parse review and rating\n",
        "def parse_review_and_rating(response_text):\n",
        "    if \"Rating:\" in response_text:\n",
        "        review, rating = response_text.split(\"Rating:\", 1)\n",
        "        review = review.strip()\n",
        "        rating = int(rating.strip()) if rating.strip().isdigit() else 0\n",
        "    else:\n",
        "        review, rating = response_text, 0\n",
        "    return review, rating\n",
        "\n",
        "# Asynchronous function to generate a synthetic review and rating\n",
        "async def generate_synthetic_review(product_name, system_content):\n",
        "    user_message = f\"Product: {product_name}\\nReview and Rating:\"\n",
        "    try:\n",
        "        chat_completion = await client.chat.completions.create(\n",
        "            messages=[\n",
        "                {\"role\": \"system\", \"content\": system_content},\n",
        "                {\"role\": \"user\", \"content\": user_message}\n",
        "            ],\n",
        "            model=\"llama3-8b-8192\",\n",
        "            temperature=0.5,\n",
        "            max_tokens=200,\n",
        "            top_p=1,\n",
        "            stream=False\n",
        "        )\n",
        "        generated_response = chat_completion.choices[0].message.content.strip()\n",
        "        review_text, rating = parse_review_and_rating(generated_response)\n",
        "        return review_text, rating\n",
        "    except Exception as e:\n",
        "        return str(e), 0\n",
        "\n",
        "# Asynchronous function to generate synthetic reviews\n",
        "async def generate_reviews_with_ratings(product_title, rating, system_message):\n",
        "    review, generated_rating = await generate_synthetic_review(product_title, system_message)\n",
        "    return {'title': product_title, 'synthetic_review': review, 'review_rating': rating}\n",
        "\n",
        "# Main function to run the synthetic review generation\n",
        "async def main():\n",
        "    balanced_reviews_list = []\n",
        "\n",
        "    # Create tasks for asynchronous review generation\n",
        "    tasks = []\n",
        "    for _, row in product_df.iterrows():\n",
        "        product_title = row['title']\n",
        "        original_rating = reviews_sample_df.sample(1)['rating'].values[0]\n",
        "        tasks.append(generate_reviews_with_ratings(product_title, rating=original_rating, system_message=system_content))\n",
        "\n",
        "    # Run tasks with tqdm for progress tracking\n",
        "    for completed_task in tqdm(asyncio.as_completed(tasks), total=len(tasks), desc=\"Generating Synthetic Reviews\"):\n",
        "        balanced_reviews_list.append(await completed_task)\n",
        "\n",
        "    # Convert the list of synthetic reviews to a DataFrame and save it as CSV\n",
        "    balanced_reviews_df = pd.DataFrame(balanced_reviews_list)\n",
        "    output_file = \"balanced_synthetic_reviews_with_llm_ratings.csv\"\n",
        "    balanced_reviews_df.to_csv(output_file, index=False)\n",
        "    print(f\"Synthetic reviews and ratings have been successfully generated and saved to {output_file}\")\n",
        "\n",
        "# Run the main function using asyncio.run()\n",
        "asyncio.run(main())\n"
      ]
    }
  ],
  "metadata": {
    "colab": {
      "provenance": []
    },
    "kernelspec": {
      "display_name": "Python 3",
      "name": "python3"
    },
    "language_info": {
      "name": "python"
    }
  },
  "nbformat": 4,
  "nbformat_minor": 0
}
